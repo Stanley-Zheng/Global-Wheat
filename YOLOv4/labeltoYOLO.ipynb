{
  "nbformat": 4,
  "nbformat_minor": 0,
  "metadata": {
    "colab": {
      "name": "labeltoYOLO.ipynb",
      "provenance": [],
      "collapsed_sections": []
    },
    "kernelspec": {
      "name": "python3",
      "display_name": "Python 3"
    }
  },
  "cells": [
    {
      "cell_type": "markdown",
      "metadata": {
        "id": "Ng3SqA1U7o-z",
        "colab_type": "text"
      },
      "source": [
        "# Modify labels from COCO format to YOLO format\n",
        "\n",
        "The format of the labels in `train.csv` are xmin ymin w h. We need to convert these to the YOLO format, which are normalized from 0 to 1 and xmin ymin w h . "
      ]
    },
    {
      "cell_type": "code",
      "metadata": {
        "id": "6cTddE1X7k3E",
        "colab_type": "code",
        "colab": {
          "base_uri": "https://localhost:8080/",
          "height": 305
        },
        "outputId": "492e7a66-cb66-46b3-d155-665f96823574"
      },
      "source": [
        "from ast import literal_eval\n",
        "import cv2\n",
        "import matplotlib.pyplot as plt\n",
        "import numpy as np\n",
        "import pandas as pd\n",
        "import os\n",
        "from google.colab import drive\n",
        "\n",
        "drive.mount('/content/gdrive')\n",
        "\n",
        "train_df = pd.read_csv(\"/content/gdrive/My Drive/wheat/input/train.csv\")\n",
        "train_df.head()"
      ],
      "execution_count": null,
      "outputs": []
    },
    {
      "cell_type": "code",
      "metadata": {
        "id": "-6Uu_q56DQJ1",
        "colab_type": "code",
        "colab": {}
      },
      "source": [
        "def convert(size, box):\n",
        "    dw = 1. / size[0]\n",
        "    dh = 1. / size[1]\n",
        "    x = (box[0] + box[1]) / 2.0\n",
        "    y = (box[2] + box[3]) / 2.0\n",
        "    w = box[1] - box[0]\n",
        "    h = box[3] - box[2]\n",
        "    x = x * dw\n",
        "    w = w * dw\n",
        "    y = y * dh\n",
        "    h = h * dh\n",
        "    return [x, y, w, h]\n",
        "\n",
        "def convert_to_yolo_label(coco_format_box, w = 1024, h = 1024):\n",
        "    bbox = literal_eval(coco_format_box)\n",
        "    xmin = bbox[0]\n",
        "    xmax = bbox[0] + bbox[2]\n",
        "    ymin = bbox[1]\n",
        "    ymax = bbox[1] + bbox[3]\n",
        "    b = (float(xmin), float(xmax), float(ymin), float(ymax))\n",
        "    yolo_box = convert((w, h), b)\n",
        "    if np.max(yolo_box) > 1 or np.min(yolo_box) < 0:\n",
        "        print(\"BOX HAS AN ISSUE\")\n",
        "    return yolo_box\n",
        "\n",
        "train_df['yolo_box'] = train_df.bbox.apply(convert_to_yolo_label)"
      ],
      "execution_count": null,
      "outputs": []
    },
    {
      "cell_type": "code",
      "metadata": {
        "id": "01vT75p1DdUd",
        "colab_type": "code",
        "colab": {
          "base_uri": "https://localhost:8080/",
          "height": 35
        },
        "outputId": "7010438e-8cc3-43c3-d369-7ac616e39424"
      },
      "source": [
        "print(\"We have {} unique images with boxes.\".format(len(train_df.image_id.unique())))\n",
        "unique_img_ids = train_df.image_id.unique()"
      ],
      "execution_count": null,
      "outputs": []
    },
    {
      "cell_type": "code",
      "metadata": {
        "id": "Hmx2u-bADklr",
        "colab_type": "code",
        "colab": {}
      },
      "source": [
        "folder_location = \"/content/gdrive/My Drive/wheat/input/wheat_yolo_train_data\"\n",
        "for img_id in unique_img_ids:\n",
        "    filt_df = train_df.query(\"image_id == @img_id\")\n",
        "    #print(filt_df.shape[0])\n",
        "    all_boxes = filt_df.yolo_box.values\n",
        "    file_name = \"{}/{}.txt\".format(folder_location,img_id) # specify the name of the folder and get a file name\n",
        "\n",
        "    s = \"0 %s %s %s %s \\n\" \n",
        "    with open(file_name, 'a') as file:\n",
        "        for i in all_boxes:\n",
        "            new_line = (s % tuple(i))\n",
        "            file.write(new_line)  "
      ],
      "execution_count": null,
      "outputs": []
    },
    {
      "cell_type": "code",
      "metadata": {
        "id": "YvUawoRRI75j",
        "colab_type": "code",
        "colab": {}
      },
      "source": [
        "import glob\n",
        "all_imgs = glob.glob(\"/content/gdrive/My Drive/wheat/input/train/*.jpg\")\n",
        "all_imgs = [i.split(\"/\")[-1].replace(\".jpg\", \"\") for i in all_imgs]\n",
        "positive_imgs = train_df.image_id.unique()"
      ],
      "execution_count": null,
      "outputs": []
    },
    {
      "cell_type": "code",
      "metadata": {
        "id": "6B3vHC9ZI9Rj",
        "colab_type": "code",
        "colab": {
          "base_uri": "https://localhost:8080/",
          "height": 35
        },
        "outputId": "259fdd41-7aaa-46f4-855a-be67c81f349d"
      },
      "source": [
        "negative_images = set(all_imgs) - set(positive_imgs)\n",
        "print(len(all_imgs), len(positive_imgs))"
      ],
      "execution_count": null,
      "outputs": []
    },
    {
      "cell_type": "code",
      "metadata": {
        "id": "2R_uRkU_I-4c",
        "colab_type": "code",
        "colab": {}
      },
      "source": [
        "for i in list(negative_images):\n",
        "    file_name = \"/content/gdrive/My Drive/wheat/input/wheat_yolo_train_data/{}.txt\".format(i)\n",
        "    with open(file_name, 'w') as fp: \n",
        "        pass"
      ],
      "execution_count": null,
      "outputs": []
    },
    {
      "cell_type": "markdown",
      "metadata": {
        "id": "2AFhVBtd3p--",
        "colab_type": "text"
      },
      "source": [
        "Now we will copy all of the .txt bounding boxes and the pictures into the same folder and zip it. "
      ]
    },
    {
      "cell_type": "code",
      "metadata": {
        "id": "fiiDv7XeJCrX",
        "colab_type": "code",
        "colab": {
          "base_uri": "https://localhost:8080/",
          "height": 1000
        },
        "outputId": "c0f60c05-305a-4fda-b195-80971e825339"
      },
      "source": [
        "from google.colab import drive\n",
        "\n",
        "drive.mount('/content/gdrive')\n",
        "!mkdir data\n",
        "%cd data\n",
        "!cp /content/gdrive/My\\ Drive/wheat/input/wheat_yolo_train_data/* .\n",
        "print(\"Done copying labels. Now copying images.\")\n",
        "!cp /content/gdrive/My\\ Drive/wheat/input/train/*.jpg .\n",
        "print(\"Done copying Images. Now zipping.\")\n",
        "!zip -r newobj.zip /content/data/* \n",
        "print(\"Finally done.\")"
      ],
      "execution_count": null,
      "outputs": []
    },
    {
      "cell_type": "code",
      "metadata": {
        "id": "ULoMZ1TXsjRz",
        "colab_type": "code",
        "colab": {}
      },
      "source": [
        ""
      ],
      "execution_count": null,
      "outputs": []
    },
    {
      "cell_type": "code",
      "metadata": {
        "id": "bVfw4ESbRXVB",
        "colab_type": "code",
        "colab": {}
      },
      "source": [
        ""
      ],
      "execution_count": null,
      "outputs": []
    }
  ]
}