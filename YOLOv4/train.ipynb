{
  "nbformat": 4,
  "nbformat_minor": 0,
  "metadata": {
    "colab": {
      "name": "highresnothresh.ipynb",
      "provenance": [],
      "collapsed_sections": [],
      "machine_shape": "hm"
    },
    "kernelspec": {
      "name": "python3",
      "display_name": "Python 3"
    },
    "accelerator": "GPU"
  },
  "cells": [
    {
      "cell_type": "code",
      "metadata": {
        "id": "xIBG18ZzlVmT",
        "colab_type": "code",
        "colab": {
          "base_uri": "https://localhost:8080/",
          "height": 1000
        },
        "outputId": "9e647ec9-01a3-4e6e-b4da-e5234c2fb78d"
      },
      "source": [
        "!git clone https://github.com/AlexeyAB/darknet\n",
        "%cd darknet\n",
        "!sed -i 's/OPENCV=0/OPENCV=1/' Makefile\n",
        "!sed -i 's/GPU=0/GPU=1/' Makefile\n",
        "!sed -i 's/CUDNN=0/CUDNN=1/' Makefile\n",
        "!sed -i 's/CUDNN_HALF=0/CUDNN_HALF=1/' Makefile\n",
        "!make\n",
        "!wget https://github.com/AlexeyAB/darknet/releases/download/darknet_yolo_v3_optimal/yolov4.weights\n",
        "\n",
        "def imShow(path):\n",
        "  import cv2\n",
        "  import matplotlib.pyplot as plt\n",
        "  %matplotlib inline\n",
        "\n",
        "  image = cv2.imread(path)\n",
        "  height, width = image.shape[:2]\n",
        "  resized_image = cv2.resize(image,(3*width, 3*height), interpolation = cv2.INTER_CUBIC)\n",
        "\n",
        "  fig = plt.gcf()\n",
        "  fig.set_size_inches(18, 10)\n",
        "  plt.axis(\"off\")\n",
        "  plt.imshow(cv2.cvtColor(resized_image, cv2.COLOR_BGR2RGB))\n",
        "  plt.show()"
      ],
      "execution_count": null,
      "outputs": []
    },
    {
      "cell_type": "code",
      "metadata": {
        "id": "bFV9CRbDAIIK",
        "colab_type": "code",
        "colab": {
          "base_uri": "https://localhost:8080/",
          "height": 1000
        },
        "outputId": "9852cb78-e58b-4a58-f20d-0d5cd82cf13c"
      },
      "source": [
        "from google.colab import drive\n",
        "import os\n",
        "\n",
        "drive.mount('/content/gdrive')\n",
        "\n",
        "if os.path.exists('/content/gdrive/My Drive/wheat/darknetdata/obj.zip'):\n",
        "    !cp /content/gdrive/My\\ Drive/wheat/darknetdata/obj.zip ../\n",
        "    !mkdir ./data/obj\n",
        "    !unzip ../obj.zip -d data/obj\n",
        "    print(\"Data retrieved\")\n",
        "\n",
        "    !cp /content/gdrive/My\\ Drive/wheat/darknetdata/cfg/highresnothresh.cfg ./cfg\n",
        "    !cp /content/gdrive/My\\ Drive/wheat/darknetdata/cfg/obj.names ./data\n",
        "    !cp /content/gdrive/My\\ Drive/wheat/darknetdata/cfg/highresnothresh.data ./data\n",
        "    print(\"Config recieved\")\n",
        "\n",
        "    !cp /content/gdrive/My\\ Drive/wheat/darknetdata/cfg/generate_train.py ./\n",
        "    !python generate_train.py\n",
        "    print(\"train.txt generated\")\n",
        "\n",
        "    !ls data #You should see a few jpg and txt files as well as train.txt\n",
        "\n",
        "else: # Retrieve and zip dataset if it does not exist (since IO is slow in cloud compute, we must zip it.)\n",
        "    import imutils\n",
        "    import pandas as pd\n",
        "\n",
        "    !pip install --upgrade --force-reinstall --no-deps kaggle\n",
        "\n",
        "    drive.mount('/content/gdrive')\n",
        "    !mkdir /root/.kaggle/\n",
        "    !echo '{\"username\":\"stanleyjzheng\",\"key\":\"INSERTAPIKEYHERE\"}' > /root/.kaggle/kaggle.json # For some reason, as of july 25, 2020, you need to copy this line onto a different cell to run\n",
        "\n",
        "    %cd /content/gdrive/My Drive/wheat/input\n",
        "    %pwd\n",
        "\n",
        "    !kaggle competitions download -c global-wheat-detection\n",
        "    !unzip \\*.zip  && rm *.zip\n",
        "    %cd /content"
      ],
      "execution_count": null,
      "outputs": []
    },
    {
      "cell_type": "code",
      "metadata": {
        "id": "EUzFytMaGuxI",
        "colab_type": "code",
        "colab": {
          "base_uri": "https://localhost:8080/",
          "height": 314
        },
        "outputId": "3c1b4099-601a-442b-e2ad-a6bcb9a13216"
      },
      "source": [
        "!wget https://github.com/AlexeyAB/darknet/releases/download/darknet_yolo_v3_optimal/yolov4.conv.137 # Download pretrained weights"
      ],
      "execution_count": null,
      "outputs": []
    },
    {
      "cell_type": "markdown",
      "metadata": {
        "id": "_GkhNQn3G8rw",
        "colab_type": "text"
      },
      "source": [
        "Paste the following code into your console window and hit **Enter** to avoid timeouts\n",
        "```\n",
        "function ClickConnect(){\n",
        "console.log(\"Working\"); \n",
        "document\n",
        "  .querySelector('#top-toolbar > colab-connect-button')\n",
        "  .shadowRoot.querySelector('#connect')\n",
        "  .click() \n",
        "}\n",
        "setInterval(ClickConnect,60000)\n",
        "```"
      ]
    },
    {
      "cell_type": "code",
      "metadata": {
        "id": "n3rdFa_WG9aC",
        "colab_type": "code",
        "colab": {}
      },
      "source": [
        "!ln -s \"/content/gdrive/My Drive/wheat/\" '/simlinkwheat' # Simlink since obj.data does not allow spaces in file paths"
      ],
      "execution_count": null,
      "outputs": []
    },
    {
      "cell_type": "code",
      "metadata": {
        "id": "LzR01AbjSoxJ",
        "colab_type": "code",
        "colab": {}
      },
      "source": [
        "#!cp /content/gdrive/My\\ Drive/wheat/darknetdata/backup/yolov4-obj_last.weights ./data\n",
        "#Saves to /simlinkwheat/darknetdata/nothreshbackup\n",
        "%%capture\n",
        "!./darknet detector train ./data/highresnothresh.data ./cfg/highresnothresh.cfg /simlinkwheat/darknetdata/highresnothreshbackup/highresnothresh_last.weights -dont_show -map"
      ],
      "execution_count": null,
      "outputs": []
    },
    {
      "cell_type": "code",
      "metadata": {
        "id": "LkTWSPC7U1nf",
        "colab_type": "code",
        "colab": {
          "base_uri": "https://localhost:8080/",
          "height": 165
        },
        "outputId": "217f7129-df7e-4f42-bf62-28bdf51fafdd"
      },
      "source": [
        "imShow('chart.png')"
      ],
      "execution_count": null,
      "outputs": []
    },
    {
      "cell_type": "code",
      "metadata": {
        "id": "kGlobLUjay4E",
        "colab_type": "code",
        "colab": {
          "base_uri": "https://localhost:8080/",
          "height": 363
        },
        "outputId": "377e750f-06ee-4b0b-a1a5-ea64fd3a5a6a"
      },
      "source": [
        "!nvidia-smi"
      ],
      "execution_count": null,
      "outputs": []
    },
    {
      "cell_type": "code",
      "metadata": {
        "id": "fJZ1gL-BbK3S",
        "colab_type": "code",
        "colab": {
          "base_uri": "https://localhost:8080/",
          "height": 35
        },
        "outputId": "9514c3f9-2f0a-4543-b6e6-17dc97a474ea"
      },
      "source": [
        "!ls /simlinkwheat/darknetdata/backup/"
      ],
      "execution_count": null,
      "outputs": []
    },
    {
      "cell_type": "code",
      "metadata": {
        "id": "OmLtrNv31KaB",
        "colab_type": "code",
        "colab": {
          "base_uri": "https://localhost:8080/",
          "height": 1000
        },
        "outputId": "83ba7804-dfcc-4e6c-fff6-08494ab809ed"
      },
      "source": [
        "!./darknet detector map data/obj.data ./cfg/yolov4-objORIGINAL.cfg /simlinkwheat/darknetdata/backup/yolov4-objORIGINAL_6000.weights # Test"
      ],
      "execution_count": null,
      "outputs": []
    },
    {
      "cell_type": "code",
      "metadata": {
        "id": "xomk8FuxGDu-",
        "colab_type": "code",
        "colab": {
          "base_uri": "https://localhost:8080/",
          "height": 1000
        },
        "outputId": "d8204924-d0a8-4729-c086-0dc9ce65d93b"
      },
      "source": [
        "!./darknet detector test data/obj.data ./cfg/yolov4-objORIGINAL.cfg /simlinkwheat/darknetdata/backup/yolov4-objORIGINAL_4000.weights /simlinkwheat/input/test/51b3e36ab.jpg -thresh 0.35 -dont_show # Show predictions\n",
        "imShow('predictions.jpg')"
      ],
      "execution_count": null,
      "outputs": []
    },
    {
      "cell_type": "code",
      "metadata": {
        "id": "tE7Kg2KqNG80",
        "colab_type": "code",
        "colab": {}
      },
      "source": [
        ""
      ],
      "execution_count": null,
      "outputs": []
    }
  ]
}